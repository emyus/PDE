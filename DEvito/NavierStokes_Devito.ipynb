{
 "cells": [
  {
   "cell_type": "markdown",
   "metadata": {},
   "source": [
    "## Navier Stokes (2D)"
   ]
  },
  {
   "cell_type": "markdown",
   "metadata": {},
   "source": [
    "The momentum equation in vector form for a velocity field $\\vec{v}$ is given by:\n",
    "\n",
    "$$\\frac{\\partial \\vec{v}}{\\partial t}+(\\vec{v}\\cdot\\nabla)\\vec{v}=-\\frac{1}{\\rho}\\nabla p + \\nu \\nabla^2\\vec{v}$$\n",
    "\n",
    "This equation represents three scalar equations, one for each velocity component $(u,v,w)$\n"
   ]
  },
  {
   "cell_type": "markdown",
   "metadata": {},
   "source": [
    "#### Here, I solve it in two dimensions, so there will be only two scalar equations."
   ]
  },
  {
   "cell_type": "markdown",
   "metadata": {},
   "source": [
    "So the system of differential equations will consists of:\n",
    " - two equations for the velocity components $u,v$ and \n",
    " - one equation for pressure:"
   ]
  },
  {
   "cell_type": "markdown",
   "metadata": {},
   "source": [
    "$$\\frac{\\partial u}{\\partial t}+u\\frac{\\partial u}{\\partial x}+v\\frac{\\partial u}{\\partial y} = -\\frac{1}{\\rho}\\frac{\\partial p}{\\partial x}+\\nu \\left(\\frac{\\partial^2 u}{\\partial x^2}+\\frac{\\partial^2 u}{\\partial y^2} \\right) $$\n",
    "\n",
    "\n",
    "$$\\frac{\\partial v}{\\partial t}+u\\frac{\\partial v}{\\partial x}+v\\frac{\\partial v}{\\partial y} = -\\frac{1}{\\rho}\\frac{\\partial p}{\\partial y}+\\nu\\left(\\frac{\\partial^2 v}{\\partial x^2}+\\frac{\\partial^2 v}{\\partial y^2}\\right) $$\n",
    "\n",
    "$$\\frac{\\partial^2 p}{\\partial x^2}+\\frac{\\partial^2 p}{\\partial y^2} = -\\rho\\left(\\frac{\\partial u}{\\partial x}\\frac{\\partial u}{\\partial x}+2\\frac{\\partial u}{\\partial y}\\frac{\\partial v}{\\partial x}+\\frac{\\partial v}{\\partial y}\\frac{\\partial v}{\\partial y} \\right)$$"
   ]
  },
  {
   "cell_type": "markdown",
   "metadata": {},
   "source": [
    "The discretized form for $u$ momentum, $v$ momentum and pressure $p$ is given by:"
   ]
  },
  {
   "cell_type": "markdown",
   "metadata": {},
   "source": [
    "\\begin{eqnarray}\n",
    "&&\\frac{u_{i,j}^{n+1}-u_{i,j}^{n}}{\\Delta t}+u_{i,j}^{n}\\frac{u_{i,j}^{n}-u_{i-1,j}^{n}}{\\Delta x}+v_{i,j}^{n}\\frac{u_{i,j}^{n}-u_{i,j-1}^{n}}{\\Delta y}\\\\\\ \n",
    "&&=-\\frac{1}{\\rho}\\frac{p_{i+1,j}^{n}-p_{i-1,j}^{n}}{2\\Delta x}+\\nu\\left(\\frac{u_{i+1,j}^{n}-2u_{i,j}^{n}+u_{i-1,j}^{n}}{\\Delta x^2}+\\frac{u_{i,j+1}^{n}-2u_{i,j}^{n}+u_{i,j-1}^{n}}{\\Delta y^2}\\right)\\end{eqnarray}"
   ]
  },
  {
   "cell_type": "markdown",
   "metadata": {},
   "source": [
    "\\begin{eqnarray}\n",
    "&&\\frac{v_{i,j}^{n+1}-v_{i,j}^{n}}{\\Delta t}+u_{i,j}^{n}\\frac{v_{i,j}^{n}-v_{i-1,j}^{n}}{\\Delta x}+v_{i,j}^{n}\\frac{v_{i,j}^{n}-v_{i,j-1}^{n}}{\\Delta y}\\\\\\\n",
    "&&=-\\frac{1}{\\rho}\\frac{p_{i,j+1}^{n}-p_{i,j-1}^{n}}{2\\Delta y}\n",
    "+\\nu\\left(\\frac{v_{i+1,j}^{n}-2v_{i,j}^{n}+v_{i-1,j}^{n}}{\\Delta x^2}+\\frac{v_{i,j+1}^{n}-2v_{i,j}^{n}+v_{i,j-1}^{n}}{\\Delta y^2}\\right)\\end{eqnarray}"
   ]
  },
  {
   "cell_type": "markdown",
   "metadata": {},
   "source": [
    "$$ \\frac{p_{i+1,j}^{n}-2p_{i,j}^{n}+p_{i-1,j}^{n}}{\\Delta x^2}+\\frac{p_{i,j+1}^{n}-2*p_{i,j}^{n}+p_{i,j-1}^{n}}{\\Delta y^2} \n",
    "=\\rho\\left[\\frac{1}{\\Delta t}\\left(\\frac{u_{i+1,j}-u_{i-1,j}}{2\\Delta x}+\\frac{v_{i,j+1}-v_{i,j-1}}{2\\Delta y}\\right)\\right.$$\n",
    "\n",
    "$$-\\frac{u_{i+1,j}-u_{i-1,j}}{2\\Delta x}\\frac{u_{i+1,j}-u_{i-1,j}}{2\\Delta x}\n",
    "- \\ 2\\frac{u_{i,j+1}-u_{i,j-1}}{2\\Delta y}\\frac{v_{i+1,j}-v_{i-1,j}}{2\\Delta x}\n",
    "-\\left.\\frac{v_{i,j+1}-v_{i,j-1}}{2\\Delta y}\\frac{v_{i,j+1}-v_{i,j-1}}{2\\Delta y}\\right]\n",
    "$$"
   ]
  },
  {
   "cell_type": "markdown",
   "metadata": {},
   "source": [
    "#### If we rearrange those equations, it will give us:"
   ]
  },
  {
   "cell_type": "markdown",
   "metadata": {},
   "source": [
    "The momentum equation in the $u$ direction:\n",
    "\n",
    "$$\n",
    "u_{i,j}^{n+1} = u_{i,j}^{n} - u_{i,j}^{n}\\frac{\\Delta t}{\\Delta x}(u_{i,j}^{n}-u_{i-1,j}^{n})\n",
    "- v_{i,j}^{n}\\frac{\\Delta t}{\\Delta y}(u_{i,j}^{n}-u_{i,j-1}^{n})$$\n",
    "$$-\\frac{\\Delta t}{\\rho 2\\Delta x}(p_{i+1,j}^{n}-p_{i-1,j}^{n})\n",
    "+\\nu\\left(\\frac{\\Delta t}{\\Delta x^2}(u_{i+1,j}^{n}-2u_{i,j}^{n}+u_{i-1,j}^{n})\\right.\n",
    "+\\left.\\frac{\\Delta t}{\\Delta y^2}(u_{i,j+1}^{n}-2u_{i,j}^{n}+u_{i,j-1}^{n})\\right)\n",
    "$$\n",
    "\n",
    "The momentum equation in the $v$ direction:\n",
    "\n",
    "$$v_{i,j}^{n+1} = v_{i,j}^{n}-u_{i,j}^{n}\\frac{\\Delta t}{\\Delta x}(v_{i,j}^{n}-v_{i-1,j}^{n})\n",
    "- v_{i,j}^{n}\\frac{\\Delta t}{\\Delta y}(v_{i,j}^{n}-v_{i,j-1}^{n})$$\n",
    "$$\n",
    "-\\frac{\\Delta t}{\\rho 2\\Delta y}(p_{i,j+1}^{n}-p_{i,j-1}^{n})\n",
    "+\\nu\\left(\\frac{\\Delta t}{\\Delta x^2}(v_{i+1,j}^{n}-2v_{i,j}^{n}+v_{i-1,j}^{n})\\right.\n",
    "+\\left.\\frac{\\Delta t}{\\Delta y^2}(v_{i,j+1}^{n}-2v_{i,j}^{n}+v_{i,j-1}^{n})\\right)$$"
   ]
  },
  {
   "cell_type": "markdown",
   "metadata": {},
   "source": [
    "Pressure-Poisson equation:\n",
    "\n",
    "$$\n",
    "p_{i,j}^{n}=\\frac{(p_{i+1,j}^{n}+p_{i-1,j}^{n})\\Delta y^2+(p_{i,j+1}^{n}+p_{i,j-1}^{n})\\Delta x^2}{2(\\Delta x^2+\\Delta y^2)}-\\frac{\\rho\\Delta x^2\\Delta y^2}{2(\\Delta x^2+\\Delta y^2)} \\times$$\n",
    "\n",
    "$$\\left[\\frac{1}{\\Delta t}\\left(\\frac{u_{i+1,j}-u_{i-1,j}}{2\\Delta x}+\\frac{v_{i,j+1}-v_{i,j-1}}{2\\Delta y}\\right)-\\frac{u_{i+1,j}-u_{i-1,j}}{2\\Delta x}\\frac{u_{i+1,j}-u_{i-1,j}}{2\\Delta x}\\right. $$\n",
    "\n",
    "$$ -2\\frac{u_{i,j+1}-u_{i,j-1}}{2\\Delta y}\\frac{v_{i+1,j}-v_{i-1,j}}{2\\Delta x}-\\left.\\frac{v_{i,j+1}-v_{i,j-1}}{2\\Delta y}\\frac{v_{i,j+1}-v_{i,j-1}}{2\\Delta y}\\right]$$"
   ]
  },
  {
   "cell_type": "markdown",
   "metadata": {},
   "source": [
    " ### Example"
   ]
  },
  {
   "cell_type": "markdown",
   "metadata": {},
   "source": [
    "I try to solve the (two dimensional) Navier Stokes equation with the following initial condition and boundary conditions:"
   ]
  },
  {
   "cell_type": "markdown",
   "metadata": {},
   "source": [
    "The initial condition \n",
    "$u, v, p = 0$ everywhere (remember:2D)\n",
    "\n",
    "The boundary conditions:\n",
    "\n",
    "1. $u=1$ at $y=2$\n",
    "\n",
    "2. $u, v=0$ on the other boundaries;\n",
    "\n",
    "3. $\\frac{\\partial p}{\\partial y}=0$ at $y=0$;\n",
    "\n",
    "4. $p=0$ at $y=2$\n",
    "\n",
    "5. $\\frac{\\partial p}{\\partial x}=0$ at $x=0,2$\n",
    "\n"
   ]
  },
  {
   "cell_type": "code",
   "execution_count": 1,
   "metadata": {
    "collapsed": true
   },
   "outputs": [],
   "source": [
    "import numpy as np"
   ]
  },
  {
   "cell_type": "code",
   "execution_count": 2,
   "metadata": {
    "collapsed": false
   },
   "outputs": [],
   "source": [
    "import matplotlib.pyplot as plt\n",
    "from matplotlib import cm\n",
    "from mpl_toolkits.mplot3d import Axes3D\n",
    "%matplotlib inline"
   ]
  },
  {
   "cell_type": "markdown",
   "metadata": {},
   "source": [
    "momentum equation in vector form for a velocity field $\\vec{v}$\n",
    "\n",
    "$$\\frac{\\partial \\vec{v}}{\\partial t}+(\\vec{v}\\cdot\\nabla)\\vec{v}=-\\frac{1}{\\rho}\\nabla p + \\nu \\nabla^2\\vec{v}$$\n",
    "\n",
    "This represents three scalar equations, one for each velocity component $(u,v,w)$\n"
   ]
  },
  {
   "cell_type": "markdown",
   "metadata": {
    "collapsed": true
   },
   "source": [
    "### Devito"
   ]
  },
  {
   "cell_type": "code",
   "execution_count": 3,
   "metadata": {
    "collapsed": false
   },
   "outputs": [],
   "source": [
    "from devito import TimeData, Operator, DenseData\n",
    "from sympy import Eq, solve\n",
    "from sympy.abc import h, s\n",
    "\n",
    "from sympy import init_printing\n",
    "init_printing(use_latex=True)"
   ]
  },
  {
   "cell_type": "markdown",
   "metadata": {},
   "source": [
    "$$\\frac{\\partial u}{\\partial t}+u\\frac{\\partial u}{\\partial x}+v\\frac{\\partial u}{\\partial y} = -\\frac{1}{\\rho}\\frac{\\partial p}{\\partial x}+\\nu \\left(\\frac{\\partial^2 u}{\\partial x^2}+\\frac{\\partial^2 u}{\\partial y^2} \\right) $$\n",
    "\n",
    "\n",
    "$$\\frac{\\partial v}{\\partial t}+u\\frac{\\partial v}{\\partial x}+v\\frac{\\partial v}{\\partial y} = -\\frac{1}{\\rho}\\frac{\\partial p}{\\partial y}+\\nu\\left(\\frac{\\partial^2 v}{\\partial x^2}+\\frac{\\partial^2 v}{\\partial y^2}\\right) $$\n",
    "\n",
    "$$\\frac{\\partial^2 p}{\\partial x^2}+\\frac{\\partial^2 p}{\\partial y^2} = -\\rho\\left(\\frac{\\partial u}{\\partial x}\\frac{\\partial u}{\\partial x}+2\\frac{\\partial u}{\\partial y}\\frac{\\partial v}{\\partial x}+\\frac{\\partial v}{\\partial y}\\frac{\\partial v}{\\partial y} \\right)$$"
   ]
  },
  {
   "cell_type": "code",
   "execution_count": 6,
   "metadata": {
    "collapsed": false
   },
   "outputs": [],
   "source": [
    "Nx = 41; Ny = 41; rho = 1. ; nu=0.1; Nt =100\n",
    "\n",
    "p = DenseData(name='p', shape=(Nx, Ny), space_order=2)\n",
    "u = TimeData(name='u', shape=(Nx, Ny), time_order=1, space_order=2, time_dim=Nt, save=True)\n",
    "v = TimeData(name='v', shape=(Nx, Ny), time_order=1, space_order=2, time_dim=Nt, save=True)\n",
    "\n",
    "u_eqn = Eq(u.dt + u*u.dx + v*u.dy,(-1/rho)*p.dx + nu*(u.dx2+u.dy2))\n",
    "v_eqn = Eq(v.dt + u*v.dx + v*v.dy,(-1/rho)*p.dy + nu*(v.dx2+v.dy2))\n",
    "p_eqn = Eq(p.dx2 + p.dy2, -rho * (u.dx*u.dx + 2*u.dy*v.dx + v.dy*v.dy))\n"
   ]
  },
  {
   "cell_type": "code",
   "execution_count": 6,
   "metadata": {
    "collapsed": false
   },
   "outputs": [
    {
     "data": {
      "image/png": "[encoded data removed]",
      "text/latex": [
       "$$\\left ( 2, \\quad 41, \\quad 41\\right )$$"
      ],
      "text/plain": [
       "(2, 41, 41)"
      ]
     },
     "execution_count": 6,
     "metadata": {},
     "output_type": "execute_result"
    }
   ],
   "source": [
    "u.shape"
   ]
  },
  {
   "cell_type": "code",
   "execution_count": 7,
   "metadata": {
    "collapsed": false
   },
   "outputs": [
    {
     "data": {
      "image/png": "[encoded data removed]",
      "text/latex": [
       "$$\\left(- \\frac{1}{2 h} u{\\left (time,x,y - h \\right )} + \\frac{1}{2 h} u{\\left (time,x,y + h \\right )}\\right) v{\\left (time,x,y \\right )} + \\left(- \\frac{1}{2 h} u{\\left (time,x - h,y \\right )} + \\frac{1}{2 h} u{\\left (time,x + h,y \\right )}\\right) u{\\left (time,x,y \\right )} - \\frac{1}{s} u{\\left (time,x,y \\right )} + \\frac{1}{s} u{\\left (time + s,x,y \\right )} = \\frac{0.5}{h} p{\\left (x - h,y \\right )} - \\frac{0.5}{h} p{\\left (x + h,y \\right )} - \\frac{0.4}{h^{2}} u{\\left (time,x,y \\right )} + \\frac{0.1}{h^{2}} u{\\left (time,x,y - h \\right )} + \\frac{0.1}{h^{2}} u{\\left (time,x,y + h \\right )} + \\frac{0.1}{h^{2}} u{\\left (time,x - h,y \\right )} + \\frac{0.1}{h^{2}} u{\\left (time,x + h,y \\right )}$$"
      ],
      "text/plain": [
       "⎛  u(time, x, y - h)   u(time, x, y + h)⎞                 ⎛  u(time, x - h, y)\n",
       "⎜- ───────────────── + ─────────────────⎟⋅v(time, x, y) + ⎜- ─────────────────\n",
       "⎝         2⋅h                 2⋅h       ⎠                 ⎝         2⋅h       \n",
       "                                                                              \n",
       "\n",
       "   u(time, x + h, y)⎞                 u(time, x, y)   u(time + s, x, y)   0.5⋅\n",
       " + ─────────────────⎟⋅u(time, x, y) - ───────────── + ───────────────── = ────\n",
       "          2⋅h       ⎠                       s                 s               \n",
       "                                                                              \n",
       "\n",
       "p(x - h, y)   0.5⋅p(x + h, y)   0.4⋅u(time, x, y)   0.1⋅u(time, x, y - h)   0.\n",
       "─────────── - ─────────────── - ───────────────── + ───────────────────── + ──\n",
       "   h                 h                   2                     2              \n",
       "                                        h                     h               \n",
       "\n",
       "1⋅u(time, x, y + h)   0.1⋅u(time, x - h, y)   0.1⋅u(time, x + h, y)\n",
       "─────────────────── + ───────────────────── + ─────────────────────\n",
       "         2                       2                       2         \n",
       "        h                       h                       h          "
      ]
     },
     "execution_count": 7,
     "metadata": {},
     "output_type": "execute_result"
    }
   ],
   "source": [
    "u_eqn"
   ]
  },
  {
   "cell_type": "code",
   "execution_count": 15,
   "metadata": {
    "collapsed": false
   },
   "outputs": [],
   "source": [
    "u_stencil = solve(u_eqn, u.forward)[0]\n",
    "v_stencil = solve(v_eqn, v.forward)[0]\n",
    "p_stencil = solve(p_eqn, p)[0]"
   ]
  },
  {
   "cell_type": "code",
   "execution_count": 16,
   "metadata": {
    "collapsed": false
   },
   "outputs": [
    {
     "data": {
      "image/png": "[encoded data removed]",
      "text/latex": [
       "$$0.0625 \\left(u{\\left (time,x - h,y \\right )} - u{\\left (time,x + h,y \\right )}\\right)^{2} + 0.0625 \\left(v{\\left (time,x,y - h \\right )} - v{\\left (time,x,y + h \\right )}\\right)^{2} + 0.25 p{\\left (x,y - h \\right )} + 0.25 p{\\left (x,y + h \\right )} + 0.25 p{\\left (x - h,y \\right )} + 0.25 p{\\left (x + h,y \\right )} + 0.125 u{\\left (time,x,y - h \\right )} v{\\left (time,x - h,y \\right )} - 0.125 u{\\left (time,x,y - h \\right )} v{\\left (time,x + h,y \\right )} - 0.125 u{\\left (time,x,y + h \\right )} v{\\left (time,x - h,y \\right )} + 0.125 u{\\left (time,x,y + h \\right )} v{\\left (time,x + h,y \\right )}$$"
      ],
      "text/plain": [
       "                                              2                               \n",
       "0.0625⋅(u(time, x - h, y) - u(time, x + h, y))  + 0.0625⋅(v(time, x, y - h) - \n",
       "\n",
       "                  2                                                           \n",
       "v(time, x, y + h))  + 0.25⋅p(x, y - h) + 0.25⋅p(x, y + h) + 0.25⋅p(x - h, y) +\n",
       "\n",
       "                                                                              \n",
       " 0.25⋅p(x + h, y) + 0.125⋅u(time, x, y - h)⋅v(time, x - h, y) - 0.125⋅u(time, \n",
       "\n",
       "                                                                              \n",
       "x, y - h)⋅v(time, x + h, y) - 0.125⋅u(time, x, y + h)⋅v(time, x - h, y) + 0.12\n",
       "\n",
       "                                     \n",
       "5⋅u(time, x, y + h)⋅v(time, x + h, y)"
      ]
     },
     "execution_count": 16,
     "metadata": {},
     "output_type": "execute_result"
    }
   ],
   "source": [
    "p_stencil"
   ]
  },
  {
   "cell_type": "code",
   "execution_count": 17,
   "metadata": {
    "collapsed": true
   },
   "outputs": [],
   "source": [
    "eqn_u = Eq(u.forward, u_stencil)\n",
    "eqn_v = Eq(v.forward, v_stencil)"
   ]
  },
  {
   "cell_type": "code",
   "execution_count": 18,
   "metadata": {
    "collapsed": false
   },
   "outputs": [
    {
     "data": {
      "image/png": "[encoded data removed]",
      "text/latex": [
       "$$u{\\left (time + s,x,y \\right )}$$"
      ],
      "text/plain": [
       "u(time + s, x, y)"
      ]
     },
     "execution_count": 18,
     "metadata": {},
     "output_type": "execute_result"
    }
   ],
   "source": [
    "u.forward"
   ]
  },
  {
   "cell_type": "code",
   "execution_count": 19,
   "metadata": {
    "collapsed": false
   },
   "outputs": [
    {
     "data": {
      "image/png": "[encoded data removed]",
      "text/latex": [
       "$$p{\\left (x,y \\right )}$$"
      ],
      "text/plain": [
       "p(x, y)"
      ]
     },
     "execution_count": 19,
     "metadata": {},
     "output_type": "execute_result"
    }
   ],
   "source": [
    "p"
   ]
  },
  {
   "cell_type": "code",
   "execution_count": 21,
   "metadata": {
    "collapsed": false
   },
   "outputs": [
    {
     "ename": "SympifyError",
     "evalue": "SympifyError: [0.0625*(u(time, x - h, y) - u(time, x + h, y))**2 + 0.0625*(v(time, x, y - h) - v(time, x, y + h))**2 + 0.25*p(x, y - h) + 0.25*p(x, y + h) + 0.25*p(x - h, y) + 0.25*p(x + h, y) + 0.125*u(time, x, y - h)*v(time, x - h, y) - 0.125*u(time, x, y - h)*v(time, x + h, y) - 0.125*u(time, x, y + h)*v(time, x - h, y) + 0.125*u(time, x, y + h)*v(time, x + h, y)]",
     "output_type": "error",
     "traceback": [
      "\u001b[0;31m---------------------------------------------------------------------------\u001b[0m",
      "\u001b[0;31mSympifyError\u001b[0m                              Traceback (most recent call last)",
      "\u001b[0;32m<ipython-input-21-8c6956acce33>\u001b[0m in \u001b[0;36m<module>\u001b[0;34m()\u001b[0m\n\u001b[1;32m      1\u001b[0m \u001b[0meqn_p\u001b[0m \u001b[0;34m=\u001b[0m \u001b[0mEq\u001b[0m\u001b[0;34m(\u001b[0m\u001b[0mp\u001b[0m\u001b[0;34m,\u001b[0m \u001b[0mp_stencil\u001b[0m\u001b[0;34m)\u001b[0m   \u001b[0;31m#error\u001b[0m\u001b[0;34m\u001b[0m\u001b[0m\n\u001b[0;32m----> 2\u001b[0;31m \u001b[0meqn_p\u001b[0m \u001b[0;34m=\u001b[0m \u001b[0mEq\u001b[0m\u001b[0;34m(\u001b[0m\u001b[0mp\u001b[0m\u001b[0;34m,\u001b[0m \u001b[0msolve\u001b[0m\u001b[0;34m(\u001b[0m\u001b[0mp_eqn\u001b[0m\u001b[0;34m,\u001b[0m \u001b[0mp\u001b[0m\u001b[0;34m)\u001b[0m\u001b[0;34m)\u001b[0m \u001b[0;31m#error\u001b[0m\u001b[0;34m\u001b[0m\u001b[0m\n\u001b[0m",
      "\u001b[0;32m/Users/my2n16/anaconda/lib/python3.5/site-packages/sympy/core/relational.py\u001b[0m in \u001b[0;36m__new__\u001b[0;34m(cls, lhs, rhs, **options)\u001b[0m\n\u001b[1;32m    286\u001b[0m     \u001b[0;32mdef\u001b[0m \u001b[0m__new__\u001b[0m\u001b[0;34m(\u001b[0m\u001b[0mcls\u001b[0m\u001b[0;34m,\u001b[0m \u001b[0mlhs\u001b[0m\u001b[0;34m,\u001b[0m \u001b[0mrhs\u001b[0m\u001b[0;34m=\u001b[0m\u001b[0;36m0\u001b[0m\u001b[0;34m,\u001b[0m \u001b[0;34m**\u001b[0m\u001b[0moptions\u001b[0m\u001b[0;34m)\u001b[0m\u001b[0;34m:\u001b[0m\u001b[0;34m\u001b[0m\u001b[0m\n\u001b[1;32m    287\u001b[0m         \u001b[0mlhs\u001b[0m \u001b[0;34m=\u001b[0m \u001b[0m_sympify\u001b[0m\u001b[0;34m(\u001b[0m\u001b[0mlhs\u001b[0m\u001b[0;34m)\u001b[0m\u001b[0;34m\u001b[0m\u001b[0m\n\u001b[0;32m--> 288\u001b[0;31m         \u001b[0mrhs\u001b[0m \u001b[0;34m=\u001b[0m \u001b[0m_sympify\u001b[0m\u001b[0;34m(\u001b[0m\u001b[0mrhs\u001b[0m\u001b[0;34m)\u001b[0m\u001b[0;34m\u001b[0m\u001b[0m\n\u001b[0m\u001b[1;32m    289\u001b[0m \u001b[0;34m\u001b[0m\u001b[0m\n\u001b[1;32m    290\u001b[0m         \u001b[0mevaluate\u001b[0m \u001b[0;34m=\u001b[0m \u001b[0moptions\u001b[0m\u001b[0;34m.\u001b[0m\u001b[0mpop\u001b[0m\u001b[0;34m(\u001b[0m\u001b[0;34m'evaluate'\u001b[0m\u001b[0;34m,\u001b[0m \u001b[0mglobal_evaluate\u001b[0m\u001b[0;34m[\u001b[0m\u001b[0;36m0\u001b[0m\u001b[0;34m]\u001b[0m\u001b[0;34m)\u001b[0m\u001b[0;34m\u001b[0m\u001b[0m\n",
      "\u001b[0;32m/Users/my2n16/anaconda/lib/python3.5/site-packages/sympy/core/sympify.py\u001b[0m in \u001b[0;36m_sympify\u001b[0;34m(a)\u001b[0m\n\u001b[1;32m    353\u001b[0m \u001b[0;34m\u001b[0m\u001b[0m\n\u001b[1;32m    354\u001b[0m     \"\"\"\n\u001b[0;32m--> 355\u001b[0;31m     \u001b[0;32mreturn\u001b[0m \u001b[0msympify\u001b[0m\u001b[0;34m(\u001b[0m\u001b[0ma\u001b[0m\u001b[0;34m,\u001b[0m \u001b[0mstrict\u001b[0m\u001b[0;34m=\u001b[0m\u001b[0;32mTrue\u001b[0m\u001b[0;34m)\u001b[0m\u001b[0;34m\u001b[0m\u001b[0m\n\u001b[0m\u001b[1;32m    356\u001b[0m \u001b[0;34m\u001b[0m\u001b[0m\n\u001b[1;32m    357\u001b[0m \u001b[0;34m\u001b[0m\u001b[0m\n",
      "\u001b[0;32m/Users/my2n16/anaconda/lib/python3.5/site-packages/sympy/core/sympify.py\u001b[0m in \u001b[0;36msympify\u001b[0;34m(a, locals, convert_xor, strict, rational, evaluate)\u001b[0m\n\u001b[1;32m    275\u001b[0m \u001b[0;34m\u001b[0m\u001b[0m\n\u001b[1;32m    276\u001b[0m     \u001b[0;32mif\u001b[0m \u001b[0mstrict\u001b[0m\u001b[0;34m:\u001b[0m\u001b[0;34m\u001b[0m\u001b[0m\n\u001b[0;32m--> 277\u001b[0;31m         \u001b[0;32mraise\u001b[0m \u001b[0mSympifyError\u001b[0m\u001b[0;34m(\u001b[0m\u001b[0ma\u001b[0m\u001b[0;34m)\u001b[0m\u001b[0;34m\u001b[0m\u001b[0m\n\u001b[0m\u001b[1;32m    278\u001b[0m \u001b[0;34m\u001b[0m\u001b[0m\n\u001b[1;32m    279\u001b[0m     \u001b[0;32mif\u001b[0m \u001b[0miterable\u001b[0m\u001b[0;34m(\u001b[0m\u001b[0ma\u001b[0m\u001b[0;34m)\u001b[0m\u001b[0;34m:\u001b[0m\u001b[0;34m\u001b[0m\u001b[0m\n",
      "\u001b[0;31mSympifyError\u001b[0m: SympifyError: [0.0625*(u(time, x - h, y) - u(time, x + h, y))**2 + 0.0625*(v(time, x, y - h) - v(time, x, y + h))**2 + 0.25*p(x, y - h) + 0.25*p(x, y + h) + 0.25*p(x - h, y) + 0.25*p(x + h, y) + 0.125*u(time, x, y - h)*v(time, x - h, y) - 0.125*u(time, x, y - h)*v(time, x + h, y) - 0.125*u(time, x, y + h)*v(time, x - h, y) + 0.125*u(time, x, y + h)*v(time, x + h, y)]"
     ]
    }
   ],
   "source": [
    "eqn_p = Eq(p, p_stencil)   #error\n",
    "eqn_p = Eq(p, solve(p_eqn, p)) #error"
   ]
  },
  {
   "cell_type": "code",
   "execution_count": 22,
   "metadata": {
    "collapsed": false
   },
   "outputs": [],
   "source": [
    "'''this is how to apply an Operator(Stencil Kernel object) for a TimeData object \n",
    "that needs another TimeData/DenseData object while it is evolving'''\n",
    "\n",
    "op = Operator([eqn_u, eqn_v, eqn_p], dle=None, dse=None, subs={h: 2./Nx, s: 0.001})"
   ]
  },
  {
   "cell_type": "code",
   "execution_count": null,
   "metadata": {
    "collapsed": true
   },
   "outputs": [],
   "source": []
  },
  {
   "cell_type": "code",
   "execution_count": 18,
   "metadata": {
    "collapsed": false
   },
   "outputs": [
    {
     "data": {
      "image/png": "[encoded data removed]",
      "text/latex": [
       "$$\\frac{1}{h^{2}} \\left(h^{2} u{\\left (t,x,y \\right )} + 0.5 h s \\left(p{\\left (x - h,y \\right )} - p{\\left (x + h,y \\right )} + u{\\left (t,x,y \\right )} u{\\left (t,x - h,y \\right )} - u{\\left (t,x,y \\right )} u{\\left (t,x + h,y \\right )} + u{\\left (t,x,y - h \\right )} v{\\left (t,x,y \\right )} - u{\\left (t,x,y + h \\right )} v{\\left (t,x,y \\right )}\\right) + 0.1 s \\left(- 4.0 u{\\left (t,x,y \\right )} + u{\\left (t,x,y - h \\right )} + u{\\left (t,x,y + h \\right )} + u{\\left (t,x - h,y \\right )} + u{\\left (t,x + h,y \\right )}\\right)\\right)$$"
      ],
      "text/plain": [
       " 2                                                                            \n",
       "h ⋅u(t, x, y) + 0.5⋅h⋅s⋅(p(x - h, y) - p(x + h, y) + u(t, x, y)⋅u(t, x - h, y)\n",
       "──────────────────────────────────────────────────────────────────────────────\n",
       "                                                                              \n",
       "                                                                              \n",
       "\n",
       "                                                                              \n",
       " - u(t, x, y)⋅u(t, x + h, y) + u(t, x, y - h)⋅v(t, x, y) - u(t, x, y + h)⋅v(t,\n",
       "──────────────────────────────────────────────────────────────────────────────\n",
       "                                                   2                          \n",
       "                                                  h                           \n",
       "\n",
       "                                                                              \n",
       " x, y)) + 0.1⋅s⋅(-4.0⋅u(t, x, y) + u(t, x, y - h) + u(t, x, y + h) + u(t, x - \n",
       "──────────────────────────────────────────────────────────────────────────────\n",
       "                                                                              \n",
       "                                                                              \n",
       "\n",
       "                       \n",
       "h, y) + u(t, x + h, y))\n",
       "───────────────────────\n",
       "                       \n",
       "                       "
      ]
     },
     "execution_count": 18,
     "metadata": {},
     "output_type": "execute_result"
    }
   ],
   "source": [
    "u_stencil"
   ]
  },
  {
   "cell_type": "markdown",
   "metadata": {},
   "source": [
    "<del>{**From here, I don't know how to proceed. Because I don't know how to apply an Operator(Stencil Kernel object) for a TimeData object that needs another TimeData object while it is evolving.**} </del>"
   ]
  },
  {
   "cell_type": "markdown",
   "metadata": {
    "collapsed": true
   },
   "source": [
    "This is how it looks like if we solve it with numpy array:"
   ]
  },
  {
   "cell_type": "code",
   "execution_count": 3,
   "metadata": {
    "collapsed": true
   },
   "outputs": [],
   "source": [
    "def press_elem(u,v,p_elem, dx,dy):\n",
    "    p_elem[1:-1,1:-1] = ((1/dt) *((u[1:-1,2:]-u[1:-1,0:-2])/(2*dx) + (v[2:,1:-1]-v[0:-2,1:-1])/(2*dy)) -\\\n",
    "                        (u[1:-1,2:] - u[1:-1,0:-2])/(2*dx)*(u[1:-1,2:]-u[1:-1,0:-2])/(2*dx) - \\\n",
    "                      -2 * (u[2:,1:-1]-u[0:-2,1:-1])/(2*dy) * (v[1:-1,2:]-v[1:-1,0:-2]) / (2*dx) - \\\n",
    "                      (v[2:,1:-1]-v[0:-2,1:-1])/(2*dy) * (v[2:,1:-1]-v[0:-2,1:-1]) / (2*dy) )\n",
    "    return p_elem"
   ]
  },
  {
   "cell_type": "code",
   "execution_count": 4,
   "metadata": {
    "collapsed": true
   },
   "outputs": [],
   "source": [
    "def press_nit(p, dx, dy, rho,p_elem):\n",
    "    pn = np.empty_like(p)\n",
    "    pn = p.copy()\n",
    "    nit = 50\n",
    "    for q in range(nit):\n",
    "        p[1:-1,1:-1] = (((pn[1:-1,2:] + pn[1:-1,0:-2])*dy**2 + (pn[2:,1:-1] + pn[0:-2,1:-1])*dx**2)/ \\\n",
    "                        (2*(dx**2 + dy**2))) -  \\\n",
    "                (rho * dx**2 * dy**2 / (2*(dx**2 + dy**2)) * p_elem[1:-1,1:-1])\n",
    "\n",
    "        p[0,:] = p[1,:] #BC dp/dy=0 at y = 0\n",
    "        p[:,0] = p[:,1] #BC dp/dx=0 at x=0\n",
    "        p[:-1] = p[:,-2] #BC dp/dx=0 at x=2\n",
    "        p[-1,:] = 0 #BC p=0 at y=2\n",
    "\n",
    "    return p"
   ]
  },
  {
   "cell_type": "code",
   "execution_count": 5,
   "metadata": {
    "collapsed": true
   },
   "outputs": [],
   "source": [
    "def navier_stokes(u,v,p,dx,dy,nt,dt,rho,nu):\n",
    "    un = np.empty_like(u)\n",
    "    vn = np.empty_like(v)\n",
    "    p_elem = np.zeros((ny,nx))\n",
    "\n",
    "    for t in range(nt):\n",
    "        un = u.copy()\n",
    "        vn = v.copy()\n",
    "        \n",
    "        #updating pressure\n",
    "        p_elem = press_elem(u,v,p_elem,dx,dy)\n",
    "        #pesudo-time variable nit. helps ensure a divergence-free field.\n",
    "        p = press_nit(p, dx, dy, rho,p_elem) \n",
    "        #updating momentum u\n",
    "        u[1:-1,1:-1] = un[1:-1,1:-1] - un[1:-1,1:-1]*(dt/dx)*(un[1:-1,1:-1]-un[1:-1,0:-2])-\\\n",
    "                     vn[1:-1,1:-1]*(dt/dy)*(un[1:-1,1:-1]-un[0:-2,1:-1]) -\\\n",
    "                      (dt/(rho*2*dx))*(p[1:-1,2:]-p[1:-1,0:-2]) + \\\n",
    "                        nu*( (dt/dx**2)*(un[1:-1,2:]-2*un[1:-1,1:-1]+un[1:-1,0:-2]) +\n",
    "                        (dt/dy**2)*(un[2:,1:-1]-2*un[1:-1,1:-1]+un[0:-2,1:-1]))\n",
    "        #upadating momentum v\n",
    "        v[1:-1,1:-1] = vn[1:-1,1:-1] - un[1:-1,1:-1]*(dt/dx)*(vn[1:-1,1:-1]-vn[1:-1,0:-2]) -\\\n",
    "                        vn[1:-1,1:-1]*(dt/dy)*(vn[1:-1,1:-1]-vn[0:-2,1:-1]) -\\\n",
    "                        (dt/rho*2*dy)*(p[1:-1,2:]-p[1:-1,0:-2]) +\\\n",
    "                        nu*( (dt/dx**2)*(vn[1:-1,2:]-2*vn[1:-1,1:-1]+vn[1:-1,0:-2]) +\n",
    "                        (dt/dy**2)*(vn[2:,1:-1]-2*vn[1:-1,1:-1]+vn[0:-2,1:-1]))        \n",
    "              \n",
    "        \n",
    "        u[0,:] = 0\n",
    "        u[:,-1] = 0\n",
    "        u[:,0] = 0\n",
    "        v[-1,:] = 0\n",
    "        v[0,:] = 0\n",
    "        v[:,-1] = 0\n",
    "        v[:,0] = 0\n",
    "        u[-1,:] = 1\n",
    "    return u,v,p"
   ]
  },
  {
   "cell_type": "code",
   "execution_count": 11,
   "metadata": {
    "collapsed": false
   },
   "outputs": [],
   "source": [
    "dt = 0.001\n",
    "rho = 1.0\n",
    "nu = 0.1\n",
    "\n",
    "ny = 41\n",
    "nx = 41\n",
    "x,dx = np.linspace(0, 2, nx, retstep=True)\n",
    "y,dy = np.linspace(0, 2, ny, retstep=True)\n",
    "\n",
    "u = np.zeros((ny, nx))\n",
    "v = np.zeros((ny, nx))\n",
    "p = np.zeros((ny, nx))\n",
    "\n",
    "u, v, p = navier_stokes(u,v,p,dx,dy,nt,dt,rho,nu)"
   ]
  }
 ],
 "metadata": {
  "anaconda-cloud": {},
  "kernelspec": {
   "display_name": "Python [Root]",
   "language": "python",
   "name": "Python [Root]"
  },
  "language_info": {
   "codemirror_mode": {
    "name": "ipython",
    "version": 3
   },
   "file_extension": ".py",
   "mimetype": "text/x-python",
   "name": "python",
   "nbconvert_exporter": "python",
   "pygments_lexer": "ipython3",
   "version": "3.5.2"
  }
 },
 "nbformat": 4,
 "nbformat_minor": 0
}
