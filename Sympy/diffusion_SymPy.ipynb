{
 "cells": [
  {
   "cell_type": "code",
   "execution_count": 1,
   "metadata": {
    "collapsed": true
   },
   "outputs": [],
   "source": [
    "import sympy\n",
    "sympy.init_printing()\n",
    "x,t,dt,dx,D = sympy.symbols('x,t,dt,dx,D')\n",
    "u = sympy.Function('u')"
   ]
  },
  {
   "cell_type": "code",
   "execution_count": 2,
   "metadata": {
    "collapsed": false
   },
   "outputs": [],
   "source": [
    "dudt = sympy.as_finite_diff(u(x, t).diff(t), [t, t+dt])\n",
    "d2udx2 = sympy.as_finite_diff(u(x, t).diff(x,x), [x-dx, x, x+dx])\n",
    "eqn = sympy.Eq(dudt, D * d2udx2)\n",
    "sym_next_u = sympy.solve(eqn, u(x, t+dt))[0]\n",
    "params = (u(x+dx,t), u(x,t), u(x-dx,t),dx, dt, D)\n",
    "next_u = sympy.lambdify(params, sym_next_u, 'numpy')"
   ]
  },
  {
   "cell_type": "code",
   "execution_count": 3,
   "metadata": {
    "collapsed": true
   },
   "outputs": [],
   "source": [
    "import numpy as np\n",
    "def initial_concent(x, x_mean=0.5, sigma=0.2):\n",
    "    return (1/(sigma*np.sqrt(2*np.pi))) * np.exp((x-x_mean)**2/-(sigma**2))\n",
    "\n",
    "D = 1.0\n",
    "L = 1\n",
    "dx = 0.02\n",
    "x = np.arange(0, L, dx)\n",
    "Nx = len(x)\n",
    "dt = 0.5 * dx**2\n",
    "t = np.arange(0,L , dt)\n",
    "Nt = len(t)\n",
    "u0 = initial_concent(x) #x in t_zero\n",
    "\n",
    "C = D * dt / dx**2\n",
    "\n",
    "#switch variables before timestepping\n",
    "u_1= u0.copy()\n",
    "u = np.zeros_like(u_1)\n",
    "#the rest time steps"
   ]
  },
  {
   "cell_type": "code",
   "execution_count": 4,
   "metadata": {
    "collapsed": false
   },
   "outputs": [],
   "source": [
    "for i in range (1,Nt):\n",
    "    u[1:-1] = next_u(u_1[2:], u_1[1:-1], u_1[0:-2],dx,dt,D)\n",
    "    #Neuman BC\n",
    "    u[0] = next_u(u_1[1], u_1[0], u_1[0],dx,dt,D)\n",
    "    u[-1] = next_u(u_1[-1], u_1[-1], u_1[-2],dx,dt,D)\n",
    "    #switch variables\n",
    "    u_1[:] = u   "
   ]
  },
  {
   "cell_type": "code",
   "execution_count": 5,
   "metadata": {
    "collapsed": false
   },
   "outputs": [
    {
     "data": {
      "text/plain": [
       "[<matplotlib.lines.Line2D at 0x112d269e8>]"
      ]
     },
     "execution_count": 5,
     "metadata": {},
     "output_type": "execute_result"
    },
    {
     "data": {
      "image/png": "[encoded data removed]",
      "text/plain": [
       "<matplotlib.figure.Figure at 0x10bc3d7f0>"
      ]
     },
     "metadata": {},
     "output_type": "display_data"
    }
   ],
   "source": [
    "import matplotlib.pyplot as plt\n",
    "%matplotlib inline\n",
    "plt.plot(x,u0)\n",
    "plt.ylim(0,2)\n",
    "plt.plot(x, u, 'x')"
   ]
  },
  {
   "cell_type": "code",
   "execution_count": null,
   "metadata": {
    "collapsed": true
   },
   "outputs": [],
   "source": []
  }
 ],
 "metadata": {
  "anaconda-cloud": {},
  "kernelspec": {
   "display_name": "Python [Root]",
   "language": "python",
   "name": "Python [Root]"
  },
  "language_info": {
   "codemirror_mode": {
    "name": "ipython",
    "version": 3
   },
   "file_extension": ".py",
   "mimetype": "text/x-python",
   "name": "python",
   "nbconvert_exporter": "python",
   "pygments_lexer": "ipython3",
   "version": "3.5.2"
  }
 },
 "nbformat": 4,
 "nbformat_minor": 0
}
