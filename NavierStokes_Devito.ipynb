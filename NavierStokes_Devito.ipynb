{
 "cells": [
  {
   "cell_type": "markdown",
   "metadata": {},
   "source": [
    "## Navier Stokes (2D)"
   ]
  },
  {
   "cell_type": "markdown",
   "metadata": {},
   "source": [
    "The momentum equation in vector form for a velocity field $\\vec{v}$ is given by:\n",
    "\n",
    "$$\\frac{\\partial \\vec{v}}{\\partial t}+(\\vec{v}\\cdot\\nabla)\\vec{v}=-\\frac{1}{\\rho}\\nabla p + \\nu \\nabla^2\\vec{v}$$\n",
    "\n",
    "This equation represents three scalar equations, one for each velocity component $(u,v,w)$\n"
   ]
  },
  {
   "cell_type": "markdown",
   "metadata": {},
   "source": [
    "#### Here, I solve it in two dimensions, so there will be only two scalar equations."
   ]
  },
  {
   "cell_type": "markdown",
   "metadata": {},
   "source": [
    "So the system of differential equations will consists of:\n",
    " - two equations for the velocity components $u,v$ and \n",
    " - one equation for pressure:"
   ]
  },
  {
   "cell_type": "markdown",
   "metadata": {},
   "source": [
    "$$\\frac{\\partial u}{\\partial t}+u\\frac{\\partial u}{\\partial x}+v\\frac{\\partial u}{\\partial y} = -\\frac{1}{\\rho}\\frac{\\partial p}{\\partial x}+\\nu \\left(\\frac{\\partial^2 u}{\\partial x^2}+\\frac{\\partial^2 u}{\\partial y^2} \\right) $$\n",
    "\n",
    "\n",
    "$$\\frac{\\partial v}{\\partial t}+u\\frac{\\partial v}{\\partial x}+v\\frac{\\partial v}{\\partial y} = -\\frac{1}{\\rho}\\frac{\\partial p}{\\partial y}+\\nu\\left(\\frac{\\partial^2 v}{\\partial x^2}+\\frac{\\partial^2 v}{\\partial y^2}\\right) $$\n",
    "\n",
    "$$\\frac{\\partial^2 p}{\\partial x^2}+\\frac{\\partial^2 p}{\\partial y^2} = -\\rho\\left(\\frac{\\partial u}{\\partial x}\\frac{\\partial u}{\\partial x}+2\\frac{\\partial u}{\\partial y}\\frac{\\partial v}{\\partial x}+\\frac{\\partial v}{\\partial y}\\frac{\\partial v}{\\partial y} \\right)$$"
   ]
  },
  {
   "cell_type": "markdown",
   "metadata": {},
   "source": [
    "The discretized form for $u$ momentum, $v$ momentum and pressure $p$ is given by:"
   ]
  },
  {
   "cell_type": "markdown",
   "metadata": {},
   "source": [
    "\\begin{eqnarray}\n",
    "&&\\frac{u_{i,j}^{n+1}-u_{i,j}^{n}}{\\Delta t}+u_{i,j}^{n}\\frac{u_{i,j}^{n}-u_{i-1,j}^{n}}{\\Delta x}+v_{i,j}^{n}\\frac{u_{i,j}^{n}-u_{i,j-1}^{n}}{\\Delta y}\\\\\\ \n",
    "&&=-\\frac{1}{\\rho}\\frac{p_{i+1,j}^{n}-p_{i-1,j}^{n}}{2\\Delta x}+\\nu\\left(\\frac{u_{i+1,j}^{n}-2u_{i,j}^{n}+u_{i-1,j}^{n}}{\\Delta x^2}+\\frac{u_{i,j+1}^{n}-2u_{i,j}^{n}+u_{i,j-1}^{n}}{\\Delta y^2}\\right)\\end{eqnarray}"
   ]
  },
  {
   "cell_type": "markdown",
   "metadata": {},
   "source": [
    "\\begin{eqnarray}\n",
    "&&\\frac{v_{i,j}^{n+1}-v_{i,j}^{n}}{\\Delta t}+u_{i,j}^{n}\\frac{v_{i,j}^{n}-v_{i-1,j}^{n}}{\\Delta x}+v_{i,j}^{n}\\frac{v_{i,j}^{n}-v_{i,j-1}^{n}}{\\Delta y}\\\\\\\n",
    "&&=-\\frac{1}{\\rho}\\frac{p_{i,j+1}^{n}-p_{i,j-1}^{n}}{2\\Delta y}\n",
    "+\\nu\\left(\\frac{v_{i+1,j}^{n}-2v_{i,j}^{n}+v_{i-1,j}^{n}}{\\Delta x^2}+\\frac{v_{i,j+1}^{n}-2v_{i,j}^{n}+v_{i,j-1}^{n}}{\\Delta y^2}\\right)\\end{eqnarray}"
   ]
  },
  {
   "cell_type": "markdown",
   "metadata": {},
   "source": [
    "$$ \\frac{p_{i+1,j}^{n}-2p_{i,j}^{n}+p_{i-1,j}^{n}}{\\Delta x^2}+\\frac{p_{i,j+1}^{n}-2*p_{i,j}^{n}+p_{i,j-1}^{n}}{\\Delta y^2} \n",
    "=\\rho\\left[\\frac{1}{\\Delta t}\\left(\\frac{u_{i+1,j}-u_{i-1,j}}{2\\Delta x}+\\frac{v_{i,j+1}-v_{i,j-1}}{2\\Delta y}\\right)\\right.$$\n",
    "\n",
    "$$-\\frac{u_{i+1,j}-u_{i-1,j}}{2\\Delta x}\\frac{u_{i+1,j}-u_{i-1,j}}{2\\Delta x}\n",
    "- \\ 2\\frac{u_{i,j+1}-u_{i,j-1}}{2\\Delta y}\\frac{v_{i+1,j}-v_{i-1,j}}{2\\Delta x}\n",
    "-\\left.\\frac{v_{i,j+1}-v_{i,j-1}}{2\\Delta y}\\frac{v_{i,j+1}-v_{i,j-1}}{2\\Delta y}\\right]\n",
    "$$"
   ]
  },
  {
   "cell_type": "markdown",
   "metadata": {},
   "source": [
    "#### If we rearrange those equations, it will give us:"
   ]
  },
  {
   "cell_type": "markdown",
   "metadata": {},
   "source": [
    "The momentum equation in the $u$ direction:\n",
    "\n",
    "$$\n",
    "u_{i,j}^{n+1} = u_{i,j}^{n} - u_{i,j}^{n}\\frac{\\Delta t}{\\Delta x}(u_{i,j}^{n}-u_{i-1,j}^{n})\n",
    "- v_{i,j}^{n}\\frac{\\Delta t}{\\Delta y}(u_{i,j}^{n}-u_{i,j-1}^{n})$$\n",
    "$$-\\frac{\\Delta t}{\\rho 2\\Delta x}(p_{i+1,j}^{n}-p_{i-1,j}^{n})\n",
    "+\\nu\\left(\\frac{\\Delta t}{\\Delta x^2}(u_{i+1,j}^{n}-2u_{i,j}^{n}+u_{i-1,j}^{n})\\right.\n",
    "+\\left.\\frac{\\Delta t}{\\Delta y^2}(u_{i,j+1}^{n}-2u_{i,j}^{n}+u_{i,j-1}^{n})\\right)\n",
    "$$\n",
    "\n",
    "The momentum equation in the $v$ direction:\n",
    "\n",
    "$$v_{i,j}^{n+1} = v_{i,j}^{n}-u_{i,j}^{n}\\frac{\\Delta t}{\\Delta x}(v_{i,j}^{n}-v_{i-1,j}^{n})\n",
    "- v_{i,j}^{n}\\frac{\\Delta t}{\\Delta y}(v_{i,j}^{n}-v_{i,j-1}^{n})$$\n",
    "$$\n",
    "-\\frac{\\Delta t}{\\rho 2\\Delta y}(p_{i,j+1}^{n}-p_{i,j-1}^{n})\n",
    "+\\nu\\left(\\frac{\\Delta t}{\\Delta x^2}(v_{i+1,j}^{n}-2v_{i,j}^{n}+v_{i-1,j}^{n})\\right.\n",
    "+\\left.\\frac{\\Delta t}{\\Delta y^2}(v_{i,j+1}^{n}-2v_{i,j}^{n}+v_{i,j-1}^{n})\\right)$$"
   ]
  },
  {
   "cell_type": "markdown",
   "metadata": {},
   "source": [
    "Pressure-Poisson equation:\n",
    "\n",
    "$$\n",
    "p_{i,j}^{n}=\\frac{(p_{i+1,j}^{n}+p_{i-1,j}^{n})\\Delta y^2+(p_{i,j+1}^{n}+p_{i,j-1}^{n})\\Delta x^2}{2(\\Delta x^2+\\Delta y^2)}-\\frac{\\rho\\Delta x^2\\Delta y^2}{2(\\Delta x^2+\\Delta y^2)} \\times$$\n",
    "\n",
    "$$\\left[\\frac{1}{\\Delta t}\\left(\\frac{u_{i+1,j}-u_{i-1,j}}{2\\Delta x}+\\frac{v_{i,j+1}-v_{i,j-1}}{2\\Delta y}\\right)-\\frac{u_{i+1,j}-u_{i-1,j}}{2\\Delta x}\\frac{u_{i+1,j}-u_{i-1,j}}{2\\Delta x}\\right. $$\n",
    "\n",
    "$$ -2\\frac{u_{i,j+1}-u_{i,j-1}}{2\\Delta y}\\frac{v_{i+1,j}-v_{i-1,j}}{2\\Delta x}-\\left.\\frac{v_{i,j+1}-v_{i,j-1}}{2\\Delta y}\\frac{v_{i,j+1}-v_{i,j-1}}{2\\Delta y}\\right]$$"
   ]
  },
  {
   "cell_type": "markdown",
   "metadata": {},
   "source": [
    " ### Example"
   ]
  },
  {
   "cell_type": "markdown",
   "metadata": {},
   "source": [
    "I try to solve the (two dimensional) Navier Stokes equation with the following initial condition and boundary conditions:"
   ]
  },
  {
   "cell_type": "markdown",
   "metadata": {},
   "source": [
    "The initial condition \n",
    "$u, v, p = 0$ everywhere (remember:2D)\n",
    "\n",
    "The boundary conditions:\n",
    "\n",
    "1. $u=1$ at $y=2$\n",
    "\n",
    "2. $u, v=0$ on the other boundaries;\n",
    "\n",
    "3. $\\frac{\\partial p}{\\partial y}=0$ at $y=0$;\n",
    "\n",
    "4. $p=0$ at $y=2$\n",
    "\n",
    "5. $\\frac{\\partial p}{\\partial x}=0$ at $x=0,2$\n",
    "\n"
   ]
  },
  {
   "cell_type": "code",
   "execution_count": 1,
   "metadata": {
    "collapsed": true
   },
   "outputs": [],
   "source": [
    "import numpy as np"
   ]
  },
  {
   "cell_type": "code",
   "execution_count": 2,
   "metadata": {
    "collapsed": false
   },
   "outputs": [],
   "source": [
    "import matplotlib.pyplot as plt\n",
    "from matplotlib import cm\n",
    "from mpl_toolkits.mplot3d import Axes3D\n",
    "%matplotlib inline"
   ]
  },
  {
   "cell_type": "markdown",
   "metadata": {},
   "source": [
    "momentum equation in vector form for a velocity field $\\vec{v}$\n",
    "\n",
    "$$\\frac{\\partial \\vec{v}}{\\partial t}+(\\vec{v}\\cdot\\nabla)\\vec{v}=-\\frac{1}{\\rho}\\nabla p + \\nu \\nabla^2\\vec{v}$$\n",
    "\n",
    "This represents three scalar equations, one for each velocity component $(u,v,w)$\n"
   ]
  },
  {
   "cell_type": "markdown",
   "metadata": {
    "collapsed": true
   },
   "source": [
    "### Devito"
   ]
  },
  {
   "cell_type": "code",
   "execution_count": 13,
   "metadata": {
    "collapsed": true
   },
   "outputs": [],
   "source": [
    "from devito import TimeData, StencilKernel, DenseData\n",
    "from sympy import Eq, solve\n",
    "from sympy.abc import h, s\n",
    "\n",
    "from sympy import init_printing\n",
    "init_printing(use_latex=True)"
   ]
  },
  {
   "cell_type": "code",
   "execution_count": 14,
   "metadata": {
    "collapsed": false
   },
   "outputs": [],
   "source": [
    "Nx = 41; Ny = 41; rho = 1. ; nu=0.1\n",
    "\n",
    "p = DenseData(name='p', shape=(Nx, Ny), space_order=2)\n",
    "u = TimeData(name='u', shape=(Nx, Ny), time_order=1, space_order=2)\n",
    "v = TimeData(name='v', shape=(Nx, Ny), time_order=1, space_order=2)\n",
    "\n",
    "u_eqn = Eq(u.dt + u*u.dx + v*u.dy,(-1/rho)*p.dx + nu*(u.dx2+u.dy2))\n",
    "v_eqn = Eq(v.dt + u*v.dx + v*v.dy,(-1/rho)*p.dy + nu*(v.dx2+v.dy2))\n",
    "p_eqn = Eq(p.dx2 + p.dy2, -rho * (u.dx*u.dx + 2*u.dy*v.dx + v.dy*v.dy))\n"
   ]
  },
  {
   "cell_type": "code",
   "execution_count": 15,
   "metadata": {
    "collapsed": false
   },
   "outputs": [
    {
     "data": {
      "image/png": "[encoded data removed]",
      "text/latex": [
       "$$\\left ( 2, \\quad 41, \\quad 41\\right )$$"
      ],
      "text/plain": [
       "(2, 41, 41)"
      ]
     },
     "execution_count": 15,
     "metadata": {},
     "output_type": "execute_result"
    }
   ],
   "source": [
    "u.shape"
   ]
  },
  {
   "cell_type": "code",
   "execution_count": 16,
   "metadata": {
    "collapsed": false
   },
   "outputs": [
    {
     "data": {
      "image/png": "[encoded data removed]",
      "text/latex": [
       "$$\\left ( 41, \\quad 41\\right )$$"
      ],
      "text/plain": [
       "(41, 41)"
      ]
     },
     "execution_count": 16,
     "metadata": {},
     "output_type": "execute_result"
    }
   ],
   "source": [
    "p.shape"
   ]
  },
  {
   "cell_type": "code",
   "execution_count": 17,
   "metadata": {
    "collapsed": false
   },
   "outputs": [],
   "source": [
    "u_stencil = solve(u_eqn, u.forward)[0]\n",
    "v_stencil = solve(v_eqn, v.forward)[0]\n",
    "p_stencil = solve(p_eqn, p)"
   ]
  },
  {
   "cell_type": "code",
   "execution_count": 18,
   "metadata": {
    "collapsed": false
   },
   "outputs": [
    {
     "data": {
      "image/png": "[encoded data removed]",
      "text/latex": [
       "$$\\frac{1}{h^{2}} \\left(h^{2} u{\\left (t,x,y \\right )} + 0.5 h s \\left(p{\\left (x - h,y \\right )} - p{\\left (x + h,y \\right )} + u{\\left (t,x,y \\right )} u{\\left (t,x - h,y \\right )} - u{\\left (t,x,y \\right )} u{\\left (t,x + h,y \\right )} + u{\\left (t,x,y - h \\right )} v{\\left (t,x,y \\right )} - u{\\left (t,x,y + h \\right )} v{\\left (t,x,y \\right )}\\right) + 0.1 s \\left(- 4.0 u{\\left (t,x,y \\right )} + u{\\left (t,x,y - h \\right )} + u{\\left (t,x,y + h \\right )} + u{\\left (t,x - h,y \\right )} + u{\\left (t,x + h,y \\right )}\\right)\\right)$$"
      ],
      "text/plain": [
       " 2                                                                            \n",
       "h ⋅u(t, x, y) + 0.5⋅h⋅s⋅(p(x - h, y) - p(x + h, y) + u(t, x, y)⋅u(t, x - h, y)\n",
       "──────────────────────────────────────────────────────────────────────────────\n",
       "                                                                              \n",
       "                                                                              \n",
       "\n",
       "                                                                              \n",
       " - u(t, x, y)⋅u(t, x + h, y) + u(t, x, y - h)⋅v(t, x, y) - u(t, x, y + h)⋅v(t,\n",
       "──────────────────────────────────────────────────────────────────────────────\n",
       "                                                   2                          \n",
       "                                                  h                           \n",
       "\n",
       "                                                                              \n",
       " x, y)) + 0.1⋅s⋅(-4.0⋅u(t, x, y) + u(t, x, y - h) + u(t, x, y + h) + u(t, x - \n",
       "──────────────────────────────────────────────────────────────────────────────\n",
       "                                                                              \n",
       "                                                                              \n",
       "\n",
       "                       \n",
       "h, y) + u(t, x + h, y))\n",
       "───────────────────────\n",
       "                       \n",
       "                       "
      ]
     },
     "execution_count": 18,
     "metadata": {},
     "output_type": "execute_result"
    }
   ],
   "source": [
    "u_stencil"
   ]
  },
  {
   "cell_type": "markdown",
   "metadata": {},
   "source": [
    "**From here, I don't know how to proceed. Because I don't know how to apply an Operator(Stencil Kernel object) for a TimeData object that needs another TimeData object while it is evolving.** "
   ]
  },
  {
   "cell_type": "code",
   "execution_count": null,
   "metadata": {
    "collapsed": true
   },
   "outputs": [],
   "source": []
  }
 ],
 "metadata": {
  "anaconda-cloud": {},
  "kernelspec": {
   "display_name": "Python [Root]",
   "language": "python",
   "name": "Python [Root]"
  },
  "language_info": {
   "codemirror_mode": {
    "name": "ipython",
    "version": 3
   },
   "file_extension": ".py",
   "mimetype": "text/x-python",
   "name": "python",
   "nbconvert_exporter": "python",
   "pygments_lexer": "ipython3",
   "version": "3.5.2"
  }
 },
 "nbformat": 4,
 "nbformat_minor": 0
}
